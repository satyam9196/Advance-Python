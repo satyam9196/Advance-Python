{
 "cells": [
  {
   "cell_type": "code",
   "execution_count": null,
   "metadata": {
    "colab": {
     "base_uri": "https://localhost:8080/"
    },
    "id": "dl9L_Gjzv2oW",
    "outputId": "f2b635ba-9892-4144-a035-bc9ef3933207"
   },
   "outputs": [
    {
     "name": "stdout",
     "output_type": "stream",
     "text": [
      "feat1 works\n",
      "feat2 works\n"
     ]
    }
   ],
   "source": [
    "class A:\n",
    "  def feat1(self):\n",
    "    print(\"feat1 works\")\n",
    "  def feat2(self):\n",
    "    print(\"feat2 works\")\n",
    "\n",
    "a1=A()\n",
    "a1.feat1()\n",
    "a1.feat2()"
   ]
  },
  {
   "cell_type": "code",
   "execution_count": null,
   "metadata": {
    "colab": {
     "base_uri": "https://localhost:8080/",
     "height": 211
    },
    "id": "SG4HPXyjxnWJ",
    "outputId": "5c5cbc55-a46e-49a6-e173-cc69ffb3bfc0"
   },
   "outputs": [
    {
     "ename": "AttributeError",
     "evalue": "'B' object has no attribute 'feat1'",
     "output_type": "error",
     "traceback": [
      "\u001b[0;31m---------------------------------------------------------------------------\u001b[0m",
      "\u001b[0;31mAttributeError\u001b[0m                            Traceback (most recent call last)",
      "\u001b[0;32m<ipython-input-5-d08ee8f52471>\u001b[0m in \u001b[0;36m<cell line: 0>\u001b[0;34m()\u001b[0m\n\u001b[1;32m     13\u001b[0m \u001b[0;34m\u001b[0m\u001b[0m\n\u001b[1;32m     14\u001b[0m \u001b[0mb1\u001b[0m\u001b[0;34m=\u001b[0m\u001b[0mB\u001b[0m\u001b[0;34m(\u001b[0m\u001b[0;34m)\u001b[0m\u001b[0;34m\u001b[0m\u001b[0;34m\u001b[0m\u001b[0m\n\u001b[0;32m---> 15\u001b[0;31m \u001b[0mb1\u001b[0m\u001b[0;34m.\u001b[0m\u001b[0mfeat1\u001b[0m\u001b[0;34m(\u001b[0m\u001b[0;34m)\u001b[0m\u001b[0;34m\u001b[0m\u001b[0;34m\u001b[0m\u001b[0m\n\u001b[0m\u001b[1;32m     16\u001b[0m \u001b[0mb1\u001b[0m\u001b[0;34m.\u001b[0m\u001b[0mfeat2\u001b[0m\u001b[0;34m(\u001b[0m\u001b[0;34m)\u001b[0m\u001b[0;34m\u001b[0m\u001b[0;34m\u001b[0m\u001b[0m\n\u001b[1;32m     17\u001b[0m \u001b[0mb1\u001b[0m\u001b[0;34m.\u001b[0m\u001b[0mfeat3\u001b[0m\u001b[0;34m(\u001b[0m\u001b[0;34m)\u001b[0m\u001b[0;34m\u001b[0m\u001b[0;34m\u001b[0m\u001b[0m\n",
      "\u001b[0;31mAttributeError\u001b[0m: 'B' object has no attribute 'feat1'"
     ]
    }
   ],
   "source": [
    "class A:\n",
    "  def feat1(self):\n",
    "    print(\"feat1 works\")\n",
    "  def feat2(self):\n",
    "    print(\"feat2 works\")\n",
    "\n",
    "class B():\n",
    "  def feat3(self):\n",
    "    print(\"feat3 works\")\n",
    "\n",
    "  def feat4(self):\n",
    "    print(\"feat4 works\")\n",
    "\n",
    "b1=B()\n",
    "b1.feat1()\n",
    "b1.feat2()\n",
    "b1.feat3()\n",
    "b1.feat4()"
   ]
  },
  {
   "cell_type": "code",
   "execution_count": null,
   "metadata": {
    "colab": {
     "base_uri": "https://localhost:8080/"
    },
    "id": "SOR7IxlgwV1s",
    "outputId": "2223beba-c782-4c9c-90e7-b2de807f2cb1"
   },
   "outputs": [
    {
     "name": "stdout",
     "output_type": "stream",
     "text": [
      "feat1 works\n",
      "feat2 works\n",
      "feat3 works\n",
      "feat4 works\n"
     ]
    }
   ],
   "source": [
    "class A:\n",
    "  def feat1(self):\n",
    "    print(\"feat1 works\")\n",
    "  def feat2(self):\n",
    "    print(\"feat2 works\")\n",
    "\n",
    "class B(A):\n",
    "  def feat3(self):\n",
    "    print(\"feat3 works\")\n",
    "\n",
    "  def feat4(self):\n",
    "    print(\"feat4 works\")\n",
    "\n",
    "b1=B()\n",
    "b1.feat1()\n",
    "b1.feat2()\n",
    "b1.feat3()\n",
    "b1.feat4()\n",
    "\n"
   ]
  },
  {
   "cell_type": "code",
   "execution_count": null,
   "metadata": {
    "colab": {
     "base_uri": "https://localhost:8080/"
    },
    "id": "L47Zc4mg7-fs",
    "outputId": "ae6449d5-af43-47fb-ca11-47ccaa9b4181"
   },
   "outputs": [
    {
     "name": "stdout",
     "output_type": "stream",
     "text": [
      "feat5 works\n",
      "feat3 works\n",
      "feat2 works\n"
     ]
    }
   ],
   "source": [
    "class A:\n",
    "  def feat1(self):\n",
    "    print(\"feat1 works\")\n",
    "  def feat2(self):\n",
    "    print(\"feat2 works\")\n",
    "\n",
    "class B(A):\n",
    "  def feat3(self):\n",
    "    print(\"feat3 works\")\n",
    "\n",
    "  def feat4(self):\n",
    "    print(\"feat4 works\")\n",
    "\n",
    "class C(B):\n",
    "  def feat5(self):\n",
    "    print(\"feat5 works\")\n",
    "\n",
    "  def feat6(self):\n",
    "    print(\"feat6 works\")\n",
    "\n",
    "c1=C()\n",
    "c1.feat5()\n",
    "c1.feat3()\n",
    "c1.feat2()\n"
   ]
  },
  {
   "cell_type": "code",
   "execution_count": null,
   "metadata": {
    "colab": {
     "base_uri": "https://localhost:8080/"
    },
    "id": "Mwd3eUAV8ero",
    "outputId": "9ff4f928-d24b-4c37-e96b-99cf16f45000"
   },
   "outputs": [
    {
     "name": "stdout",
     "output_type": "stream",
     "text": [
      "feat1 works\n",
      "feat2 works\n"
     ]
    }
   ],
   "source": [
    "class A:\n",
    "  def feat1(self):\n",
    "    print(\"feat1 works\")\n",
    "  def feat2(self):\n",
    "    print(\"feat2 works\")\n",
    "\n",
    "class B:\n",
    "  def feat3(self):\n",
    "    print(\"feat3 works\")\n",
    "\n",
    "  def feat4(self):\n",
    "    print(\"feat4 works\")\n",
    "\n",
    "class C(A, B):\n",
    "  def feat5(self):\n",
    "    print(\"feat5 works\")\n",
    "\n",
    "  def feat6(self):\n",
    "    print(\"feat6 works\")\n",
    "\n",
    "\n",
    "c1=C()\n",
    "c1.feat1()\n",
    "c1.feat2()\n"
   ]
  },
  {
   "cell_type": "code",
   "execution_count": null,
   "metadata": {
    "id": "vTHVD6Ft8n5o"
   },
   "outputs": [],
   "source": []
  }
 ],
 "metadata": {
  "colab": {
   "provenance": []
  },
  "kernelspec": {
   "display_name": "Python 3 (ipykernel)",
   "language": "python",
   "name": "python3"
  },
  "language_info": {
   "codemirror_mode": {
    "name": "ipython",
    "version": 3
   },
   "file_extension": ".py",
   "mimetype": "text/x-python",
   "name": "python",
   "nbconvert_exporter": "python",
   "pygments_lexer": "ipython3",
   "version": "3.12.3"
  }
 },
 "nbformat": 4,
 "nbformat_minor": 4
}
