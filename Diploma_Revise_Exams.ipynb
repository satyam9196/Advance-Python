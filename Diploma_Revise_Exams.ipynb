{
 "cells": [
  {
   "cell_type": "code",
   "execution_count": null,
   "metadata": {
    "colab": {
     "base_uri": "https://localhost:8080/"
    },
    "id": "ttTzH6qTJnMb",
    "outputId": "930d12ce-0a15-4f35-ecc2-3fdab8596f26"
   },
   "outputs": [
    {
     "name": "stdout",
     "output_type": "stream",
     "text": [
      "2 3 5 7 11 13 17 19 23 29 31 37 41 43 47 "
     ]
    }
   ],
   "source": [
    "# Print Prime Numbers up to N integers\n",
    "\n",
    "n = 50\n",
    "for num in range(2, n):\n",
    "    for i in range(2, int(num**0.5)+1):\n",
    "        if num % i == 0:\n",
    "            break\n",
    "    else:\n",
    "        print(num, end=\" \")\n"
   ]
  },
  {
   "cell_type": "code",
   "execution_count": null,
   "metadata": {
    "colab": {
     "base_uri": "https://localhost:8080/"
    },
    "id": "iXNmNrb3J_MW",
    "outputId": "3e741826-8059-4449-9343-c8a4c30a58de"
   },
   "outputs": [
    {
     "name": "stdout",
     "output_type": "stream",
     "text": [
      "Factorial: 720\n"
     ]
    }
   ],
   "source": [
    "#  Factorial Using while\n",
    "\n",
    "n = 6\n",
    "fact = 1\n",
    "while n > 0:\n",
    "    fact *= n\n",
    "    n -= 1\n",
    "print(\"Factorial:\", fact)\n"
   ]
  },
  {
   "cell_type": "code",
   "execution_count": null,
   "metadata": {
    "colab": {
     "base_uri": "https://localhost:8080/"
    },
    "id": "j0L4vKngJxem",
    "outputId": "69026c7c-4302-4e04-c4b2-e1e14a4ec651"
   },
   "outputs": [
    {
     "name": "stdout",
     "output_type": "stream",
     "text": [
      "Reversed: 54321\n"
     ]
    }
   ],
   "source": [
    "# Reverse a Number\n",
    "\n",
    "num = 12345\n",
    "rev = 0\n",
    "while num > 0:\n",
    "    rev = rev * 10 + num % 10\n",
    "    num //= 10\n",
    "print(\"Reversed:\", rev)\n"
   ]
  },
  {
   "cell_type": "code",
   "execution_count": null,
   "metadata": {
    "colab": {
     "base_uri": "https://localhost:8080/"
    },
    "id": "_00nLvniKPyl",
    "outputId": "85e0ea22-b44f-427a-ac90-a7d4df3c1f81"
   },
   "outputs": [
    {
     "name": "stdout",
     "output_type": "stream",
     "text": [
      "0 1 1 2 3 5 8 13 21 34 "
     ]
    }
   ],
   "source": [
    "# Fibonacci Series\n",
    "\n",
    "a, b = 0, 1\n",
    "for _ in range(10):\n",
    "    print(a, end=\" \")\n",
    "    a, b = b, a + b\n"
   ]
  },
  {
   "cell_type": "code",
   "execution_count": null,
   "metadata": {
    "colab": {
     "base_uri": "https://localhost:8080/"
    },
    "id": "9a2izxj4KYxv",
    "outputId": "ff4ae57f-7001-49ad-ce5c-ae13eff0b951"
   },
   "outputs": [
    {
     "name": "stdout",
     "output_type": "stream",
     "text": [
      "Sum of digits: 35\n"
     ]
    }
   ],
   "source": [
    "# Sum of Digits of a Number\n",
    "\n",
    "num = 98765\n",
    "s = 0\n",
    "while num:\n",
    "    s += num % 10\n",
    "    num //= 10\n",
    "print(\"Sum of digits:\", s)\n"
   ]
  },
  {
   "cell_type": "code",
   "execution_count": null,
   "metadata": {
    "colab": {
     "base_uri": "https://localhost:8080/"
    },
    "id": "5EQYdpSUKe7O",
    "outputId": "d68d6249-f91a-474f-f38b-e34c3b64ac27"
   },
   "outputs": [
    {
     "name": "stdout",
     "output_type": "stream",
     "text": [
      "LCM: 36\n"
     ]
    }
   ],
   "source": [
    "# LCM of Two Numbers\n",
    "\n",
    "a, b = 12, 18\n",
    "lcm = max(a, b)\n",
    "while True:\n",
    "    if lcm % a == 0 and lcm % b == 0:\n",
    "        break\n",
    "    lcm += 1\n",
    "print(\"LCM:\", lcm)\n"
   ]
  },
  {
   "cell_type": "code",
   "execution_count": null,
   "metadata": {
    "colab": {
     "base_uri": "https://localhost:8080/"
    },
    "id": "bV6nX1emKe0y",
    "outputId": "bab797ee-49c1-4258-99de-7fa0131fe534"
   },
   "outputs": [
    {
     "name": "stdout",
     "output_type": "stream",
     "text": [
      "Palindrome\n"
     ]
    }
   ],
   "source": [
    "# Detect Palindrome Number\n",
    "\n",
    "num = 12321\n",
    "original = num\n",
    "rev = 0\n",
    "while num:\n",
    "    rev = rev * 10 + num % 10\n",
    "    num //= 10\n",
    "print(\"Palindrome\" if rev == original else \"Not palindrome\")\n"
   ]
  },
  {
   "cell_type": "code",
   "execution_count": null,
   "metadata": {
    "colab": {
     "base_uri": "https://localhost:8080/"
    },
    "id": "-06Os0SdKmMM",
    "outputId": "44daa40a-b7af-442e-e866-46f2a2ac7a6c"
   },
   "outputs": [
    {
     "name": "stdout",
     "output_type": "stream",
     "text": [
      "Leap year\n"
     ]
    }
   ],
   "source": [
    "# Leap Year Checker\n",
    "\n",
    "year = 1996\n",
    "if (year % 4 == 0 and year % 100 != 0) or (year % 400 == 0):\n",
    "    print(\"Leap year\")\n",
    "else:\n",
    "    print(\"Not a leap year\")\n"
   ]
  },
  {
   "cell_type": "code",
   "execution_count": null,
   "metadata": {
    "colab": {
     "base_uri": "https://localhost:8080/"
    },
    "id": "5jXLs28yK6u7",
    "outputId": "6c581ba9-1862-43e6-fca0-a187b089573a"
   },
   "outputs": [
    {
     "name": "stdout",
     "output_type": "stream",
     "text": [
      "Valid triangle\n"
     ]
    }
   ],
   "source": [
    "# Triangle Validity\n",
    "\n",
    "a, b, c = 5, 6, 8\n",
    "if a + b > c and a + c > b and b + c > a:\n",
    "    print(\"Valid triangle\")\n",
    "else:\n",
    "    print(\"Invalid triangle\")\n"
   ]
  },
  {
   "cell_type": "code",
   "execution_count": null,
   "metadata": {
    "colab": {
     "base_uri": "https://localhost:8080/"
    },
    "id": "f2y6pNOgLDyO",
    "outputId": "3bad5e8e-cc5e-43c1-9bd8-6a67cc91ff71"
   },
   "outputs": [
    {
     "name": "stdout",
     "output_type": "stream",
     "text": [
      "Divisible by both\n"
     ]
    }
   ],
   "source": [
    "# Divisible by 3 and 5\n",
    "\n",
    "n = 15\n",
    "if n % 3 == 0 and n % 5 == 0:\n",
    "    print(\"Divisible by both\")\n",
    "elif n % 3 == 0:\n",
    "    print(\"Only 3\")\n",
    "elif n % 5 == 0:\n",
    "    print(\"Only 5\")\n",
    "else:\n",
    "    print(\"Neither\")\n"
   ]
  },
  {
   "cell_type": "code",
   "execution_count": null,
   "metadata": {
    "colab": {
     "base_uri": "https://localhost:8080/"
    },
    "id": "_PTXP85FLO-Y",
    "outputId": "d488299b-3e20-4dea-97eb-82d88c68542a"
   },
   "outputs": [
    {
     "name": "stdout",
     "output_type": "stream",
     "text": [
      "Login success\n"
     ]
    }
   ],
   "source": [
    "#  Login System with Password\n",
    "\n",
    "username = \"admin\"\n",
    "password = \"1234\"\n",
    "if username == \"admin\":\n",
    "    if password == \"1234\":\n",
    "        print(\"Login success\")\n",
    "    else:\n",
    "        print(\"Incorrect password\")\n",
    "else:\n",
    "    print(\"Invalid user\")\n"
   ]
  },
  {
   "cell_type": "code",
   "execution_count": null,
   "metadata": {
    "colab": {
     "base_uri": "https://localhost:8080/"
    },
    "id": "6oGw4BUPLkhg",
    "outputId": "8b24a30d-5d96-4e6b-9744-68a59080c436"
   },
   "outputs": [
    {
     "name": "stdout",
     "output_type": "stream",
     "text": [
      "Even: 3 Odd: 3\n"
     ]
    }
   ],
   "source": [
    "# Count Even/Odd in a List\n",
    "\n",
    "lst = [1, 2, 3, 4, 5, 6]\n",
    "even = odd = 0\n",
    "for n in lst:\n",
    "    if n % 2 == 0:\n",
    "        even += 1\n",
    "    else:\n",
    "        odd += 1\n",
    "print(\"Even:\", even, \"Odd:\", odd)\n"
   ]
  }
 ],
 "metadata": {
  "colab": {
   "provenance": []
  },
  "kernelspec": {
   "display_name": "Python 3 (ipykernel)",
   "language": "python",
   "name": "python3"
  },
  "language_info": {
   "codemirror_mode": {
    "name": "ipython",
    "version": 3
   },
   "file_extension": ".py",
   "mimetype": "text/x-python",
   "name": "python",
   "nbconvert_exporter": "python",
   "pygments_lexer": "ipython3",
   "version": "3.12.3"
  }
 },
 "nbformat": 4,
 "nbformat_minor": 4
}
