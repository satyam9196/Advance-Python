{
 "cells": [
  {
   "cell_type": "code",
   "execution_count": null,
   "metadata": {
    "colab": {
     "base_uri": "https://localhost:8080/"
    },
    "id": "rwfKrGnwMRhN",
    "outputId": "9c4950f9-afdd-438b-b4e5-b77017825014"
   },
   "outputs": [
    {
     "name": "stdout",
     "output_type": "stream",
     "text": [
      "0\n"
     ]
    }
   ],
   "source": [
    "x=12\n",
    "print(x%6)"
   ]
  },
  {
   "cell_type": "code",
   "execution_count": null,
   "metadata": {
    "colab": {
     "base_uri": "https://localhost:8080/"
    },
    "id": "GNhgc9DpMlv5",
    "outputId": "e616c6d9-b0ef-4166-e967-87847fdfc344"
   },
   "outputs": [
    {
     "name": "stdout",
     "output_type": "stream",
     "text": [
      "enter a test number:24\n",
      "test number is divisible by 6\n"
     ]
    }
   ],
   "source": [
    "x=float(input(\"enter a test number:\"))\n",
    "if(x%2==0):\n",
    "  if(x%3==0):\n",
    "      print(\"test number is divisible by 6\")\n",
    "  else:\n",
    "      print(\"test number is not divisible by 6\")\n",
    "else:\n",
    "  print(\"test number is not divisible by 6\")"
   ]
  },
  {
   "cell_type": "code",
   "execution_count": null,
   "metadata": {
    "colab": {
     "base_uri": "https://localhost:8080/"
    },
    "id": "3AQI0T_WN_0J",
    "outputId": "07427200-6a22-47eb-a501-4b6e4861f0b2"
   },
   "outputs": [
    {
     "name": "stdout",
     "output_type": "stream",
     "text": [
      "Enter a number: -5\n",
      "Negative number\n"
     ]
    }
   ],
   "source": [
    "num = float(input(\"Enter a number: \"))\n",
    "if num > 0:\n",
    "    print(\"Positive number\")\n",
    "elif num < 0:\n",
    "    print(\"Negative number\")\n",
    "else:\n",
    "    print(\"Zero\")\n",
    "\n"
   ]
  },
  {
   "cell_type": "code",
   "execution_count": null,
   "metadata": {
    "colab": {
     "base_uri": "https://localhost:8080/"
    },
    "id": "CToJdtRbOKSF",
    "outputId": "584e49f2-337b-4cbd-a45b-b1ef9622878d"
   },
   "outputs": [
    {
     "name": "stdout",
     "output_type": "stream",
     "text": [
      "Enter a test number: 2\n",
      "test number:even\n"
     ]
    }
   ],
   "source": [
    "num = float(input(\"Enter a test number: \"))\n",
    "if (num%2==0):\n",
    "    print(\"test number:even\")\n",
    "else:\n",
    "    print(\"test num:odd\")"
   ]
  },
  {
   "cell_type": "code",
   "execution_count": null,
   "metadata": {
    "colab": {
     "base_uri": "https://localhost:8080/"
    },
    "id": "4y1f1jErPETH",
    "outputId": "15da8001-fc04-4bd6-be7d-01c3621c440e"
   },
   "outputs": [
    {
     "name": "stdout",
     "output_type": "stream",
     "text": [
      "Enter 1st number: 6\n",
      "Enter 2nd number: 4\n",
      "Enter 3rd number: 3\n",
      "num1: the greatest among 3\n"
     ]
    }
   ],
   "source": [
    "num1 = float(input(\"Enter 1st number: \"))\n",
    "num2 = float(input(\"Enter 2nd number: \"))\n",
    "num3 = float(input(\"Enter 3rd number: \"))\n",
    "\n",
    "if (num1>num2):\n",
    "  if (num1>num3):\n",
    "    print(\"num1: greatest \")\n",
    "  else:\n",
    "    print(\"num3: greatest\")\n",
    "else:\n",
    "  if num2>num3:\n",
    "    print(\"num2: greatest\")\n",
    "  else:\n",
    "     print(\"num3: greatest\")"
   ]
  },
  {
   "cell_type": "code",
   "execution_count": null,
   "metadata": {
    "colab": {
     "base_uri": "https://localhost:8080/"
    },
    "id": "r8JWXks7PUFn",
    "outputId": "a54377e7-40f0-4b8d-cc07-e502eaad8f78"
   },
   "outputs": [
    {
     "name": "stdout",
     "output_type": "stream",
     "text": [
      "Enter 1st number: 575\n",
      "Enter 2nd number: 6\n",
      "Enter 3rd number: 575\n",
      "num3:greatest\n"
     ]
    }
   ],
   "source": [
    "num1 = float(input(\"Enter 1st number: \"))\n",
    "num2 = float(input(\"Enter 2nd number: \"))\n",
    "num3 = float(input(\"Enter 3rd number: \"))\n",
    "\n",
    "if num1>num2 and num1>num3:\n",
    "  print(\"num1:greatest\")\n",
    "elif num2> num1 and num2> num3:\n",
    "  print(\"num2:greatest\")\n",
    "else:\n",
    "  print(\"num3:greatest\")"
   ]
  },
  {
   "cell_type": "code",
   "execution_count": null,
   "metadata": {
    "colab": {
     "base_uri": "https://localhost:8080/"
    },
    "id": "7MNXo5QCXyPE",
    "outputId": "73737081-2904-4901-ffb8-8294c6b46a94"
   },
   "outputs": [
    {
     "name": "stdout",
     "output_type": "stream",
     "text": [
      "Enter your marks (out of 100): 67\n",
      "Grade: D\n"
     ]
    }
   ],
   "source": [
    "marks = float(input(\"Enter your marks (out of 100): \"))\n",
    "\n",
    "if marks >= 90:\n",
    "    print(\"Grade: A\")\n",
    "elif marks >= 80:\n",
    "    print(\"Grade: B\")\n",
    "elif marks >= 70:\n",
    "    print(\"Grade: C\")\n",
    "elif marks >= 60:\n",
    "    print(\"Grade: D\")\n",
    "else:\n",
    "    print(\"Grade: F\")\n",
    "\n",
    "\n"
   ]
  },
  {
   "cell_type": "code",
   "execution_count": null,
   "metadata": {
    "colab": {
     "base_uri": "https://localhost:8080/"
    },
    "id": "T5baFe-zX_Uv",
    "outputId": "144bba50-f318-4c64-e120-bfbffddf2301"
   },
   "outputs": [
    {
     "name": "stdout",
     "output_type": "stream",
     "text": [
      "Enter a single alphabet: 2\n",
      "Invalid input! Please enter an alphabet.\n"
     ]
    }
   ],
   "source": [
    "ch = input(\"Enter a single alphabet: \")\n",
    "\n",
    "if ch in ('A','E','I','O', 'U', 'a', 'e', 'i', 'o', 'u'):\n",
    "    print(ch, \"is a vowel\")\n",
    "elif ch.isalpha():\n",
    "    print(ch, \"is a consonant\")\n",
    "else:\n",
    "    print(\"Invalid input! Please enter an alphabet.\")"
   ]
  },
  {
   "cell_type": "code",
   "execution_count": null,
   "metadata": {
    "colab": {
     "base_uri": "https://localhost:8080/"
    },
    "id": "pdlDlIZiniuC",
    "outputId": "63812654-8bac-4721-d72d-2a0cce9b4b31"
   },
   "outputs": [
    {
     "name": "stdout",
     "output_type": "stream",
     "text": [
      "condition was true\n"
     ]
    }
   ],
   "source": [
    "if True:\n",
    "  print(\"condition was true\")"
   ]
  },
  {
   "cell_type": "code",
   "execution_count": null,
   "metadata": {
    "colab": {
     "base_uri": "https://localhost:8080/"
    },
    "id": "zhjqyltCnu0s",
    "outputId": "8a8b79ff-5054-4ffc-df57-c27e12011770"
   },
   "outputs": [
    {
     "name": "stdout",
     "output_type": "stream",
     "text": [
      "condition was not true\n"
     ]
    }
   ],
   "source": [
    "if False:\n",
    "  print(\"blah blah...\")\n",
    "else:\n",
    "  print(\"condition was not true\")"
   ]
  },
  {
   "cell_type": "code",
   "execution_count": null,
   "metadata": {
    "colab": {
     "base_uri": "https://localhost:8080/"
    },
    "id": "SJofYtjRovsV",
    "outputId": "912fed61-2e35-4cd7-f2ac-0ee9d026f1db"
   },
   "outputs": [
    {
     "name": "stdout",
     "output_type": "stream",
     "text": [
      "language is python\n"
     ]
    }
   ],
   "source": [
    "lang=\"python\"\n",
    "if lang==\"python\":\n",
    "  print(\"language is python\")\n",
    "else:\n",
    "  print(\"Not a match\")"
   ]
  },
  {
   "cell_type": "code",
   "execution_count": null,
   "metadata": {
    "colab": {
     "base_uri": "https://localhost:8080/"
    },
    "id": "1pVcrbSnqlC_",
    "outputId": "bafa7e27-c59d-43f5-fb65-1d88ccd15542"
   },
   "outputs": [
    {
     "name": "stdout",
     "output_type": "stream",
     "text": [
      "Not a match\n"
     ]
    }
   ],
   "source": [
    "lang=\"Java\"\n",
    "if lang==\"python\":\n",
    "  print(\"language is python\")\n",
    "else:\n",
    "  print(\"Not a match\")"
   ]
  },
  {
   "cell_type": "code",
   "execution_count": null,
   "metadata": {
    "colab": {
     "base_uri": "https://localhost:8080/"
    },
    "id": "NJDalAjuq7hm",
    "outputId": "923f5aa2-29fc-45e6-8190-2059056102ff"
   },
   "outputs": [
    {
     "name": "stdout",
     "output_type": "stream",
     "text": [
      "language didnot match\n"
     ]
    }
   ],
   "source": [
    "lang=\"Matlab\"\n",
    "if lang==\"python\":\n",
    "  print(\"language was  python\")\n",
    "elif lang==\"java\":\n",
    "  print(\"language was  Java\")\n",
    "elif lang==\"C#\":\n",
    "  print(\"lang was  C#\")\n",
    "else:\n",
    "  print(\"language didnot match\")"
   ]
  },
  {
   "cell_type": "code",
   "execution_count": null,
   "metadata": {
    "colab": {
     "base_uri": "https://localhost:8080/"
    },
    "id": "A9z0PSHnrCwF",
    "outputId": "c33f6693-4381-4a5c-9352-75bfeb9a02e4"
   },
   "outputs": [
    {
     "name": "stdout",
     "output_type": "stream",
     "text": [
      "logged in failed by Admin\n"
     ]
    }
   ],
   "source": [
    "user = \"admin\"\n",
    "logged_in= False\n",
    "if user and logged_in:\n",
    "  print(\"Admin has succesfully logged in\")\n",
    "else:\n",
    "  print(\"logged in failed by Admin\")"
   ]
  },
  {
   "cell_type": "code",
   "execution_count": null,
   "metadata": {
    "colab": {
     "base_uri": "https://localhost:8080/"
    },
    "id": "gTe59Eezwa79",
    "outputId": "c8a5ec46-9ad0-4488-fe2b-d4ca9eea2a9a"
   },
   "outputs": [
    {
     "name": "stdout",
     "output_type": "stream",
     "text": [
      "Enter your age: 3\n",
      " not eligible man!!.\n"
     ]
    }
   ],
   "source": [
    "age = int(input(\"Enter your age: \"))\n",
    "\n",
    "if age >= 18:\n",
    "    print(\"Very much eligible to vote.\")\n",
    "elif age > 0:\n",
    "    print(\" not eligible man, you are a boy!!.\")\n",
    "else:\n",
    "    print(\"Invalid age inputted.\")\n"
   ]
  },
  {
   "cell_type": "code",
   "execution_count": null,
   "metadata": {
    "colab": {
     "base_uri": "https://localhost:8080/"
    },
    "id": "kQTTX_RkwtYN",
    "outputId": "0b358ac2-2b37-4b3b-88c0-1a13fdb83128"
   },
   "outputs": [
    {
     "name": "stdout",
     "output_type": "stream",
     "text": [
      "Enter first number: 4\n",
      "Enter second number: 0\n",
      "Enter operator (+, -, *, /): *\n",
      "Result: 0.0\n"
     ]
    }
   ],
   "source": [
    "num1 = float(input(\"Enter first number: \"))\n",
    "num2 = float(input(\"Enter second number: \"))\n",
    "operator = input(\"Enter operator (+, -, *, /): \")\n",
    "\n",
    "if operator == '+':\n",
    "    print(\"Result:\", num1 + num2)\n",
    "elif operator == '-':\n",
    "    print(\"Result:\", num1 - num2)\n",
    "elif operator == '*':\n",
    "    print(\"Result:\", num1 * num2)\n",
    "elif operator == '/':\n",
    "    if num2 != 0:\n",
    "        print(\"Result:\", num1 / num2)\n",
    "    else:\n",
    "        print(\"Error: Division by zero!\")\n",
    "else:\n",
    "    print(\"Invalid operator\")\n"
   ]
  },
  {
   "cell_type": "code",
   "execution_count": null,
   "metadata": {
    "colab": {
     "base_uri": "https://localhost:8080/"
    },
    "id": "en9-PBQWxDEf",
    "outputId": "cecda609-64a1-4092-e314-f71934fc240a"
   },
   "outputs": [
    {
     "name": "stdout",
     "output_type": "stream",
     "text": [
      "Enter your marks (out of 100): 7\n",
      "Grade: F\n"
     ]
    }
   ],
   "source": [
    "marks = float(input(\"Enter your marks (out of 100): \"))\n",
    "\n",
    "if marks >= 90:\n",
    "    print(\"Grade: A\")\n",
    "elif marks >= 80:\n",
    "    print(\"Grade: B\")\n",
    "elif marks >= 70:\n",
    "    print(\"Grade: C\")\n",
    "elif marks >= 60:\n",
    "    print(\"Grade: D\")\n",
    "else:\n",
    "    print(\"Grade: F\")\n"
   ]
  },
  {
   "cell_type": "code",
   "execution_count": null,
   "metadata": {
    "id": "HTh6T7qdz-gI"
   },
   "outputs": [],
   "source": [
    "6\n"
   ]
  },
  {
   "cell_type": "code",
   "execution_count": null,
   "metadata": {
    "colab": {
     "base_uri": "https://localhost:8080/"
    },
    "id": "G_3ZKCQ1xIoT",
    "outputId": "eadf7add-1bb8-42cd-b967-aaf40919febc"
   },
   "outputs": [
    {
     "name": "stdout",
     "output_type": "stream",
     "text": [
      "name doesnt match\n"
     ]
    }
   ],
   "source": [
    "name = \"rajaT\"\n",
    "if name == \"rajat\":\n",
    "  print(\"name matches and is rajat\")\n",
    "else:\n",
    "  print(\"name doesnt match\")"
   ]
  },
  {
   "cell_type": "code",
   "execution_count": null,
   "metadata": {
    "colab": {
     "base_uri": "https://localhost:8080/"
    },
    "id": "USowcWN23Qig",
    "outputId": "7cb67608-4f7f-4465-9500-6391c82bd640"
   },
   "outputs": [
    {
     "name": "stdout",
     "output_type": "stream",
     "text": [
      "entered num:odd\n"
     ]
    }
   ],
   "source": [
    "num= 3\n",
    "if num%2==0:\n",
    "  print(\"entered num:even\")\n",
    "else:\n",
    "  print(\"entered num:odd\")"
   ]
  }
 ],
 "metadata": {
  "colab": {
   "provenance": []
  },
  "kernelspec": {
   "display_name": "Python 3 (ipykernel)",
   "language": "python",
   "name": "python3"
  },
  "language_info": {
   "codemirror_mode": {
    "name": "ipython",
    "version": 3
   },
   "file_extension": ".py",
   "mimetype": "text/x-python",
   "name": "python",
   "nbconvert_exporter": "python",
   "pygments_lexer": "ipython3",
   "version": "3.12.3"
  }
 },
 "nbformat": 4,
 "nbformat_minor": 4
}
