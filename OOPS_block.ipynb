{
 "cells": [
  {
   "cell_type": "code",
   "execution_count": 1,
   "metadata": {
    "colab": {
     "base_uri": "https://localhost:8080/"
    },
    "id": "Q4D4o4XaC0lt",
    "outputId": "40c5e7a9-ce3e-485b-b08b-e8b03a2c981c"
   },
   "outputs": [
    {
     "name": "stdout",
     "output_type": "stream",
     "text": [
      "<class '__main__.computer'>\n"
     ]
    }
   ],
   "source": [
    "class computer:\n",
    "  def config(self):\n",
    "    print(\"i5, 16gb, 1tb\")\n",
    "comp1=computer()\n",
    "print(type(comp1))"
   ]
  },
  {
   "cell_type": "code",
   "execution_count": 2,
   "metadata": {
    "colab": {
     "base_uri": "https://localhost:8080/"
    },
    "id": "3jMWzBsRC_r9",
    "outputId": "ee9435b8-e56f-454c-97a8-4cf4d9a59a31"
   },
   "outputs": [
    {
     "name": "stdout",
     "output_type": "stream",
     "text": [
      "<class 'int'>\n"
     ]
    }
   ],
   "source": [
    "a=5\n",
    "print(type(a))"
   ]
  },
  {
   "cell_type": "code",
   "execution_count": 5,
   "metadata": {},
   "outputs": [
    {
     "name": "stdout",
     "output_type": "stream",
     "text": [
      "i5, 16gb, 1tb\n"
     ]
    }
   ],
   "source": [
    "class computer:\n",
    "    def config(self):\n",
    "        print(\"i5, 16gb, 1tb\")\n",
    "\n",
    "comp1 = computer()\n",
    "comp1.config()  # ✅ Correct way to call the method"
   ]
  },
  {
   "cell_type": "code",
   "execution_count": null,
   "metadata": {
    "colab": {
     "base_uri": "https://localhost:8080/"
    },
    "id": "Go_VnheeDxEQ",
    "outputId": "25f84260-5974-4a18-e521-94b9148eb864"
   },
   "outputs": [
    {
     "name": "stdout",
     "output_type": "stream",
     "text": [
      "i5, 16gb, 1tb\n"
     ]
    }
   ],
   "source": [
    "class computer:\n",
    "  def config(self):\n",
    "    print(\"i5, 16gb, 1tb\")\n",
    "comp1=computer()\n",
    "computer.config(comp1)"
   ]
  },
  {
   "cell_type": "code",
   "execution_count": 9,
   "metadata": {
    "colab": {
     "base_uri": "https://localhost:8080/"
    },
    "id": "8lawcS77D4qA",
    "outputId": "7a693846-1acf-4924-f692-9030ae8c4149"
   },
   "outputs": [
    {
     "name": "stdout",
     "output_type": "stream",
     "text": [
      "in init block\n",
      "in init block\n",
      "i5, 16gb, 1tb\n",
      "i5, 16gb, 1tb\n"
     ]
    }
   ],
   "source": [
    "class computer:\n",
    "  def __init__(self):\n",
    "    print(\"in init block\")\n",
    "  def config(self):\n",
    "    print(\"i5, 16gb, 1tb\")\n",
    "comp1=computer()\n",
    "comp2=computer()\n",
    "\n",
    "comp1.config()\n",
    "comp2.config()"
   ]
  },
  {
   "cell_type": "code",
   "execution_count": 10,
   "metadata": {
    "colab": {
     "base_uri": "https://localhost:8080/"
    },
    "id": "YYTEj0hpD9rp",
    "outputId": "0f6d74b9-fe8b-42e4-b1d0-6f29ebbf5e7d"
   },
   "outputs": [
    {
     "name": "stdout",
     "output_type": "stream",
     "text": [
      "20E, 30S, 40W\n",
      "20E, 30S, 40W\n"
     ]
    }
   ],
   "source": [
    "class human:\n",
    "  def walk(self):\n",
    "    print(\"20E, 30S, 40W\")\n",
    "\n",
    "\n",
    "mukesh=human()\n",
    "ramesh=human()\n",
    "ramesh.walk()\n",
    "mukesh.walk()"
   ]
  },
  {
   "cell_type": "code",
   "execution_count": 12,
   "metadata": {
    "colab": {
     "base_uri": "https://localhost:8080/"
    },
    "id": "bhxmavGsEbgW",
    "outputId": "53b27625-f051-4b6e-aaab-f69972fe0afe"
   },
   "outputs": [
    {
     "name": "stdout",
     "output_type": "stream",
     "text": [
      "20L, 30S, 40W\n",
      "20L, 30S, 40W\n"
     ]
    }
   ],
   "source": [
    "class human:\n",
    "  def walk(self):\n",
    "    print(\"20L, 30S, 40W\")\n",
    "\n",
    "\n",
    "sumit=human()\n",
    "sarthak=human()\n",
    "human.walk(sumit)\n",
    "human.walk(sarthak)"
   ]
  },
  {
   "cell_type": "code",
   "execution_count": 13,
   "metadata": {
    "colab": {
     "base_uri": "https://localhost:8080/"
    },
    "id": "EiOJPTcUGoUY",
    "outputId": "9419c913-3dbb-478b-bae3-eea78642e6d8"
   },
   "outputs": [
    {
     "name": "stdout",
     "output_type": "stream",
     "text": [
      "<class 'int'>\n"
     ]
    }
   ],
   "source": [
    "a=5\n",
    "print(type(a))"
   ]
  },
  {
   "cell_type": "code",
   "execution_count": 14,
   "metadata": {
    "colab": {
     "base_uri": "https://localhost:8080/"
    },
    "id": "-noUT60dq9qu",
    "outputId": "fa86699f-e323-43d0-d064-42d83107257e"
   },
   "outputs": [
    {
     "name": "stdout",
     "output_type": "stream",
     "text": [
      "8gb, 128gb, qlcommsd7\n",
      "8gb, 128gb, qlcommsd7\n",
      "8gb, 128gb, qlcommsd7\n"
     ]
    }
   ],
   "source": [
    "class rlmgt6t:\n",
    "  def config(self):\n",
    "    print(\"8gb, 128gb, qlcommsd7\")\n",
    "\n",
    "phone1= rlmgt6t()\n",
    "phone2= rlmgt6t()\n",
    "phone3= rlmgt6t()\n",
    "\n",
    "phone1.config()\n",
    "phone2.config()\n",
    "phone2.config()"
   ]
  },
  {
   "cell_type": "code",
   "execution_count": 22,
   "metadata": {
    "colab": {
     "base_uri": "https://localhost:8080/"
    },
    "id": "lx6xIW8Lyxdd",
    "outputId": "3799a6bb-2567-4212-f139-080afe8a2e31"
   },
   "outputs": [
    {
     "name": "stdout",
     "output_type": "stream",
     "text": [
      "config is 8gb 128gb\n",
      "config is 16gb 512gb\n"
     ]
    }
   ],
   "source": [
    "class rlmgt6t:\n",
    "  def __init__(self, ram, rom):\n",
    "    self.ram=ram\n",
    "    self.rom=rom\n",
    "\n",
    "  def config(self):\n",
    "    print(\"config is\",  self.ram, self.rom)\n",
    "\n",
    "phone1= rlmgt6t(\"8gb\", \"128gb\")\n",
    "phone2= rlmgt6t(\"16gb\", \"512gb\")\n",
    "\n",
    "\n",
    "phone1.config()\n",
    "phone2.config()"
   ]
  },
  {
   "cell_type": "code",
   "execution_count": 21,
   "metadata": {
    "colab": {
     "base_uri": "https://localhost:8080/"
    },
    "id": "dgrMIhPOrzGL",
    "outputId": "a9acf4b5-5b63-4a4a-b8c2-27a17186b1d6"
   },
   "outputs": [
    {
     "name": "stdout",
     "output_type": "stream",
     "text": [
      "config is 8gb 128gb qlcommsd7\n",
      "config is 16gb 512gb qlcommsd8\n",
      "config is 12gb 256gb mediatek dimensity\n"
     ]
    }
   ],
   "source": [
    "class rlmgt6t:\n",
    "  def __init__(self, ram, rom, processor):\n",
    "    self.ram=ram\n",
    "    self.rom=rom\n",
    "    self.processor=processor\n",
    "  def config(self):\n",
    "    print(\"config is\",  self.ram, self.rom, self.processor)\n",
    "\n",
    "phone1= rlmgt6t(\"8gb\", \"128gb\", \"qlcommsd7\")\n",
    "phone2= rlmgt6t(\"16gb\", \"512gb\", \"qlcommsd8\")\n",
    "phone3= rlmgt6t(\"12gb\", \"256gb\", \"mediatek dimensity\")\n",
    "\n",
    "phone1.config()\n",
    "phone2.config()\n",
    "phone3.config()"
   ]
  },
  {
   "cell_type": "code",
   "execution_count": 17,
   "metadata": {
    "colab": {
     "base_uri": "https://localhost:8080/"
    },
    "id": "XxsWQNE3psLw",
    "outputId": "e618c0d8-ffdd-4650-811a-7a0876d05489"
   },
   "outputs": [
    {
     "name": "stdout",
     "output_type": "stream",
     "text": [
      "Car Brand: Toyota    Model: Corolla\n"
     ]
    }
   ],
   "source": [
    "class Car:\n",
    "    def __init__(self, brand, model):\n",
    "        self.brand = brand\n",
    "        self.model = model\n",
    "\n",
    "    def info(self):\n",
    "        print(f\"Car Brand: {self.brand}    Model: {self.model}\")\n",
    "\n",
    "my_car = Car(\"Toyota\", \"Corolla\")\n",
    "\n",
    "my_car.info()"
   ]
  },
  {
   "cell_type": "code",
   "execution_count": 18,
   "metadata": {
    "colab": {
     "base_uri": "https://localhost:8080/"
    },
    "id": "5D_m10skriUl",
    "outputId": "725ad968-4bb6-454b-d00a-19edddb62c3d"
   },
   "outputs": [
    {
     "name": "stdout",
     "output_type": "stream",
     "text": [
      "Dog Name: Bruno, Breed: Labrador\n",
      "Dog Name: golden, Breed: retriever\n"
     ]
    }
   ],
   "source": [
    "class Dog:\n",
    "    def __init__(self, name=\"golden\", breed=\"retriever\"):\n",
    "        self.name = name\n",
    "        self.breed = breed\n",
    "\n",
    "    def show_details(self):\n",
    "        print(f\"Dog Name: {self.name}, Breed: {self.breed}\")\n",
    "\n",
    "\n",
    "dog1 = Dog(\"Bruno\", \"Labrador\")\n",
    "dog2 = Dog()\n",
    "dog1.show_details()\n",
    "dog2.show_details()"
   ]
  },
  {
   "cell_type": "code",
   "execution_count": 20,
   "metadata": {
    "colab": {
     "base_uri": "https://localhost:8080/"
    },
    "id": "YyywYrP4ry7r",
    "outputId": "1157959d-41e0-4b0f-8559-2dfa916478d2"
   },
   "outputs": [
    {
     "name": "stdout",
     "output_type": "stream",
     "text": [
      "Hi, Myself Jennie 20 years old.\n",
      "Hi, Myself satyam 22 years old.\n"
     ]
    }
   ],
   "source": [
    "class Student:\n",
    "    def __init__(self, name, age):\n",
    "        self.name = name\n",
    "        self.age = age\n",
    "\n",
    "    def introduction(self):\n",
    "        print(f\"Hi, Myself {self.name} {self.age} years old.\")\n",
    "\n",
    "\n",
    "student1 = Student(\"Jennie\", 20)\n",
    "student2 = Student(\"satyam\", 22)\n",
    "\n",
    "student1.introduction()\n",
    "student2.introduction()"
   ]
  },
  {
   "cell_type": "code",
   "execution_count": 23,
   "metadata": {
    "colab": {
     "base_uri": "https://localhost:8080/"
    },
    "id": "QZ8sO27Tuh6g",
    "outputId": "2fcb258b-f2fa-46f0-d5c8-95d88dee6aa7"
   },
   "outputs": [
    {
     "name": "stdout",
     "output_type": "stream",
     "text": [
      "Apple laptop current RAM upgraded to 32GB RAM\n"
     ]
    }
   ],
   "source": [
    "class Laptop:\n",
    "    def __init__(self, brand, ram):\n",
    "        self.brand = brand\n",
    "        self.ram = ram\n",
    "\n",
    "    def upgrade_ram(self, new_ram):\n",
    "        self.ram = new_ram\n",
    "        print(f\"{self.brand} laptop current RAM upgraded to {self.ram}GB RAM\")\n",
    "\n",
    "\n",
    "laptop1 = Laptop(\"Apple\", 16)\n",
    "\n",
    "laptop1.upgrade_ram(32)"
   ]
  },
  {
   "cell_type": "markdown",
   "metadata": {
    "id": "aqv343NuAbMf"
   },
   "source": [
    "# Important Topics: ***lambda function, exception handling (try-except), oops four pillars***\n",
    "\n",
    "\n",
    "#1. Variables and Constants in Python\n",
    "#2. Purpose of nonlocal Keyword\n",
    "#3.  Types of Operators in Python\n",
    "#4. Use of break and continue Statements\n",
    "#5. looping in python\n",
    "#6. Positional and Keyword Arguments in Python (args, Kwargs)\n",
    "#7. Default Arguments in Python Functions\n",
    "#8. Lambda Functions in Python\n",
    "#9. String formatting: importance (when to be used)\n",
    "#10. Ternary Operators in Python\n",
    "#11. List Comprehension\n",
    "#12. How will you define generators in Python. how do they differ from regular functions?\n",
    "#13. purpose with statement in Python.\n",
    "#14. Python closures, and in what context you can use?\n"
   ]
  },
  {
   "cell_type": "code",
   "execution_count": null,
   "metadata": {
    "id": "jjid28U5CH6d"
   },
   "outputs": [],
   "source": []
  }
 ],
 "metadata": {
  "colab": {
   "provenance": []
  },
  "kernelspec": {
   "display_name": "Python 3 (ipykernel)",
   "language": "python",
   "name": "python3"
  },
  "language_info": {
   "codemirror_mode": {
    "name": "ipython",
    "version": 3
   },
   "file_extension": ".py",
   "mimetype": "text/x-python",
   "name": "python",
   "nbconvert_exporter": "python",
   "pygments_lexer": "ipython3",
   "version": "3.12.3"
  }
 },
 "nbformat": 4,
 "nbformat_minor": 4
}
