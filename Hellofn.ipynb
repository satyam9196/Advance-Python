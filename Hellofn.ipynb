{
 "cells": [
  {
   "cell_type": "code",
   "execution_count": null,
   "metadata": {
    "colab": {
     "base_uri": "https://localhost:8080/",
     "height": 106
    },
    "id": "uRQZDl-pRRB7",
    "outputId": "0bb5fe09-d738-4798-a5e5-0b3f6c505c58"
   },
   "outputs": [
    {
     "ename": "IndentationError",
     "evalue": "expected an indented block after function definition on line 1 (<ipython-input-1-8fd44bc95bba>, line 4)",
     "output_type": "error",
     "traceback": [
      "\u001b[0;36m  File \u001b[0;32m\"<ipython-input-1-8fd44bc95bba>\"\u001b[0;36m, line \u001b[0;32m4\u001b[0m\n\u001b[0;31m    hellofn()\u001b[0m\n\u001b[0m    ^\u001b[0m\n\u001b[0;31mIndentationError\u001b[0m\u001b[0;31m:\u001b[0m expected an indented block after function definition on line 1\n"
     ]
    }
   ],
   "source": [
    "def hellofn():\n",
    "  #print(\"Hey Folks!\")\n",
    "\n",
    "hellofn()"
   ]
  },
  {
   "cell_type": "code",
   "execution_count": null,
   "metadata": {
    "colab": {
     "base_uri": "https://localhost:8080/",
     "height": 35
    },
    "id": "fE5EFXNXRetc",
    "outputId": "3f4b0e2d-ce37-46b8-e5f8-f133974ab189"
   },
   "outputs": [
    {
     "data": {
      "application/vnd.google.colaboratory.intrinsic+json": {
       "type": "string"
      },
      "text/plain": [
       "'Hey Folks!'"
      ]
     },
     "execution_count": 2,
     "metadata": {},
     "output_type": "execute_result"
    }
   ],
   "source": [
    "def hellofn():\n",
    "  return \"Hey Folks!\"\n",
    "\n",
    "hellofn()"
   ]
  },
  {
   "cell_type": "code",
   "execution_count": null,
   "metadata": {
    "colab": {
     "base_uri": "https://localhost:8080/"
    },
    "id": "4ZzC4lQxRuGk",
    "outputId": "12bbbf8d-888c-414e-f693-ac91b151a5a7"
   },
   "outputs": [
    {
     "name": "stdout",
     "output_type": "stream",
     "text": [
      "Hey Folks!\n",
      "Hey Folks!\n",
      "Hey Folks!\n",
      "Hey Folks!\n",
      "Hey Folks!\n"
     ]
    }
   ],
   "source": [
    "def hellofn():\n",
    "  print(\"Hey Folks!\")\n",
    "\n",
    "x=1\n",
    "while x<=5:\n",
    "  hellofn()\n",
    "  x+=1"
   ]
  },
  {
   "cell_type": "code",
   "execution_count": null,
   "metadata": {
    "colab": {
     "base_uri": "https://localhost:8080/",
     "height": 35
    },
    "id": "7QvoSqRrUmcB",
    "outputId": "41216127-6290-4088-ddd0-a15d7c1f027f"
   },
   "outputs": [
    {
     "data": {
      "application/vnd.google.colaboratory.intrinsic+json": {
       "type": "string"
      },
      "text/plain": [
       "'hi Folks!'"
      ]
     },
     "execution_count": 1,
     "metadata": {},
     "output_type": "execute_result"
    }
   ],
   "source": [
    "def hellofn(greet):\n",
    "  return f\"{greet} Folks!\"\n",
    "\n",
    "hellofn(\"hi\")"
   ]
  },
  {
   "cell_type": "code",
   "execution_count": null,
   "metadata": {
    "colab": {
     "base_uri": "https://localhost:8080/",
     "height": 35
    },
    "id": "EjpxKHQFU6Nd",
    "outputId": "640add74-6557-437e-f1d2-fb0f06c80994"
   },
   "outputs": [
    {
     "data": {
      "application/vnd.google.colaboratory.intrinsic+json": {
       "type": "string"
      },
      "text/plain": [
       "'hi Folks!'"
      ]
     },
     "execution_count": 4,
     "metadata": {},
     "output_type": "execute_result"
    }
   ],
   "source": [
    "def hellofn(greet):\n",
    "  return \"{} Folks!\".format(greet)\n",
    "\n",
    "hellofn(\"hi\")"
   ]
  },
  {
   "cell_type": "code",
   "execution_count": null,
   "metadata": {
    "colab": {
     "base_uri": "https://localhost:8080/",
     "height": 35
    },
    "id": "x8zy4NJsVL5w",
    "outputId": "c3ba7976-1490-4cb9-b9fe-9e251702f797"
   },
   "outputs": [
    {
     "data": {
      "application/vnd.google.colaboratory.intrinsic+json": {
       "type": "string"
      },
      "text/plain": [
       "'hi, Jennie!'"
      ]
     },
     "execution_count": 6,
     "metadata": {},
     "output_type": "execute_result"
    }
   ],
   "source": [
    "def hellofn(greet,name=\"young\"):\n",
    "  return \"{}, {}!\".format(greet, name)\n",
    "\n",
    "hellofn(\"hi\", \"Jennie\")"
   ]
  },
  {
   "cell_type": "code",
   "execution_count": null,
   "metadata": {
    "colab": {
     "base_uri": "https://localhost:8080/",
     "height": 35
    },
    "id": "mebFabWVVd4j",
    "outputId": "b378bb12-e6c7-4470-b1d5-8c6f75a3b1e3"
   },
   "outputs": [
    {
     "data": {
      "application/vnd.google.colaboratory.intrinsic+json": {
       "type": "string"
      },
      "text/plain": [
       "'hi, Jennie!'"
      ]
     },
     "execution_count": 7,
     "metadata": {},
     "output_type": "execute_result"
    }
   ],
   "source": [
    "def hellofn(greet,name=\"young\"):\n",
    "  return f\"{greet}, {name}!\"\n",
    "\n",
    "hellofn(\"hi\", \"Jennie\")"
   ]
  }
 ],
 "metadata": {
  "colab": {
   "provenance": []
  },
  "kernelspec": {
   "display_name": "Python 3 (ipykernel)",
   "language": "python",
   "name": "python3"
  },
  "language_info": {
   "codemirror_mode": {
    "name": "ipython",
    "version": 3
   },
   "file_extension": ".py",
   "mimetype": "text/x-python",
   "name": "python",
   "nbconvert_exporter": "python",
   "pygments_lexer": "ipython3",
   "version": "3.12.3"
  }
 },
 "nbformat": 4,
 "nbformat_minor": 4
}
