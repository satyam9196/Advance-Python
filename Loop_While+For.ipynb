{
 "cells": [
  {
   "cell_type": "markdown",
   "metadata": {
    "id": "x_uu88KrfUnh"
   },
   "source": []
  },
  {
   "cell_type": "markdown",
   "metadata": {
    "id": "hgcs4QNufYaQ"
   },
   "source": [
    "#FOR vs WHILE: When??\n",
    "\n",
    "[1a]. used when iterating over a sequence like a list, string, or range and hence the #iterations known in advance.\n",
    "\n",
    "[1b]. Used when the number of iterations is unknown and the execution depends on certain condition being initialised and being met. ***As long as the conditions are true nd being met...loop runs like cakewalk!!***\n",
    "\n",
    "[2a]. Implicitly checks based on the iterable like range or list items. ***In a for loop, Python automatically goes through the items in an iterable (like a list, tuple, string, range, etc.). No need of an explicit condition to check when to stop. The loop automatically stops when all elements in the iterable are exhausted. There is no need to manually check if there are more elements left. There is no need to manually update the loop variable***\n",
    "\n",
    "[2b]. Explicitly checks a condition before every iteration. ***Before running the loop body, Python evaluates the condition. If the condition is True, the loop body executes. If the condition becomes False, the loop stops. After executing the loop body, Python re-checks the condition before running the next iteration.***\n",
    "\n",
    "[3a]. Iterates over items in a sequence without manually updating the loop variable.\n",
    "\n",
    "[3b]. Requires manual control over loop variables (e.g., incrementing/decrementing counters).\n",
    "\n",
    "[4a]. Loop run Terminates when all elements in the iterable are exhausted.\n",
    "\n",
    "[4b]. Terminates when the condition evaluates to False.\n",
    "\n",
    "\n",
    "    for var in iterable:         \n",
    "        Loop body : LOCs to execute\n",
    "\n",
    "    init expression\n",
    "    while condition:\n",
    "        Loop body : LOCs to execute\n",
    "        index update expression\n",
    "\n",
    "\n",
    "\n"
   ]
  },
  {
   "cell_type": "code",
   "execution_count": 1,
   "metadata": {
    "colab": {
     "base_uri": "https://localhost:8080/"
    },
    "id": "6oz5t5_Mlq3R",
    "outputId": "8e2a9259-4bbe-4f05-f2a6-11bdc06f15fb"
   },
   "outputs": [
    {
     "name": "stdout",
     "output_type": "stream",
     "text": [
      "apple\n",
      "cherry\n",
      "grapes\n",
      "strawberry\n"
     ]
    }
   ],
   "source": [
    "#Point 1 and 2\n",
    "\n",
    "#Number of iterations known in advance: for loop\n",
    "\n",
    "# for i in range(1, 6):\n",
    "#     print(i)\n",
    "\n",
    "# for letters in 'python':\n",
    "#   print('current letter is:',letters)\n",
    "\n",
    "for fruits in ['apple', 'cherry', 'grapes', 'strawberry']:\n",
    "  print(fruits)\n",
    "\n",
    "# A while loop runs as long as a condition is being met. See here the execution depends upon some input condition\n",
    "# and number of iterations are not known in advance!! This is not so robust example to validate while loop point\n",
    "# we will see a strong example to understand this point for Whilie loop!!!!\n",
    "# i = -1999999\n",
    "# while i <= 5:\n",
    "#     print(i)\n",
    "#     i += 1\n"
   ]
  },
  {
   "cell_type": "markdown",
   "metadata": {
    "colab": {
     "base_uri": "https://localhost:8080/"
    },
    "id": "lRw1DXg6rDuM",
    "outputId": "3180daae-b0d2-478d-a0cc-0178212d718a"
   },
   "source": [
    "##### start_balance = 50000\n",
    "\n",
    "enteredamount = int(input(\"Enter the amount to withdraw: \"))\n",
    "\n",
    "\n",
    "if enteredamount > start_balance:\n",
    "    print(\"Insufficient balance!\")\n",
    "elif enteredamount < start_balance:\n",
    "    print(\"Sufficient balance.\")\n",
    "    if  enteredamount % 100 == 0:\n",
    "        print(\"Dispense money\")\n",
    "    else:\n",
    "        print(\"Please enter amount in a multiple of 100.\")\n"
   ]
  },
  {
   "cell_type": "code",
   "execution_count": null,
   "metadata": {
    "colab": {
     "base_uri": "https://localhost:8080/"
    },
    "id": "3TwhQcnIxpWG",
    "outputId": "479c71fd-157d-4b6a-8784-7d17b9722c72"
   },
   "outputs": [
    {
     "name": "stdout",
     "output_type": "stream",
     "text": [
      "2 X 1 =  2\n",
      "2 X 2 =  4\n",
      "2 X 3 =  6\n",
      "2 X 4 =  8\n",
      "2 X 5 =  10\n",
      "2 X 6 =  12\n",
      "2 X 7 =  14\n",
      "2 X 8 =  16\n",
      "2 X 9 =  18\n",
      "2 X 10 =  20\n",
      "3 X 1 =  3\n",
      "3 X 2 =  6\n",
      "3 X 3 =  9\n",
      "3 X 4 =  12\n",
      "3 X 5 =  15\n",
      "3 X 6 =  18\n",
      "3 X 7 =  21\n",
      "3 X 8 =  24\n",
      "3 X 9 =  27\n",
      "3 X 10 =  30\n",
      "4 X 1 =  4\n",
      "4 X 2 =  8\n",
      "4 X 3 =  12\n",
      "4 X 4 =  16\n",
      "4 X 5 =  20\n",
      "4 X 6 =  24\n",
      "4 X 7 =  28\n",
      "4 X 8 =  32\n",
      "4 X 9 =  36\n",
      "4 X 10 =  40\n",
      "5 X 1 =  5\n",
      "5 X 2 =  10\n",
      "5 X 3 =  15\n",
      "5 X 4 =  20\n",
      "5 X 5 =  25\n",
      "5 X 6 =  30\n",
      "5 X 7 =  35\n",
      "5 X 8 =  40\n",
      "5 X 9 =  45\n",
      "5 X 10 =  50\n",
      "6 X 1 =  6\n",
      "6 X 2 =  12\n",
      "6 X 3 =  18\n",
      "6 X 4 =  24\n",
      "6 X 5 =  30\n",
      "6 X 6 =  36\n",
      "6 X 7 =  42\n",
      "6 X 8 =  48\n",
      "6 X 9 =  54\n",
      "6 X 10 =  60\n",
      "7 X 1 =  7\n",
      "7 X 2 =  14\n",
      "7 X 3 =  21\n",
      "7 X 4 =  28\n",
      "7 X 5 =  35\n",
      "7 X 6 =  42\n",
      "7 X 7 =  49\n",
      "7 X 8 =  56\n",
      "7 X 9 =  63\n",
      "7 X 10 =  70\n",
      "8 X 1 =  8\n",
      "8 X 2 =  16\n",
      "8 X 3 =  24\n",
      "8 X 4 =  32\n",
      "8 X 5 =  40\n",
      "8 X 6 =  48\n",
      "8 X 7 =  56\n",
      "8 X 8 =  64\n",
      "8 X 9 =  72\n",
      "8 X 10 =  80\n",
      "9 X 1 =  9\n",
      "9 X 2 =  18\n",
      "9 X 3 =  27\n",
      "9 X 4 =  36\n",
      "9 X 5 =  45\n",
      "9 X 6 =  54\n",
      "9 X 7 =  63\n",
      "9 X 8 =  72\n",
      "9 X 9 =  81\n",
      "9 X 10 =  90\n",
      "10 X 1 =  10\n",
      "10 X 2 =  20\n",
      "10 X 3 =  30\n",
      "10 X 4 =  40\n",
      "10 X 5 =  50\n",
      "10 X 6 =  60\n",
      "10 X 7 =  70\n",
      "10 X 8 =  80\n",
      "10 X 9 =  90\n",
      "10 X 10 =  100\n",
      "11 X 1 =  11\n",
      "11 X 2 =  22\n",
      "11 X 3 =  33\n",
      "11 X 4 =  44\n",
      "11 X 5 =  55\n",
      "11 X 6 =  66\n",
      "11 X 7 =  77\n",
      "11 X 8 =  88\n",
      "11 X 9 =  99\n",
      "11 X 10 =  110\n",
      "12 X 1 =  12\n",
      "12 X 2 =  24\n",
      "12 X 3 =  36\n",
      "12 X 4 =  48\n",
      "12 X 5 =  60\n",
      "12 X 6 =  72\n",
      "12 X 7 =  84\n",
      "12 X 8 =  96\n",
      "12 X 9 =  108\n",
      "12 X 10 =  120\n",
      "13 X 1 =  13\n",
      "13 X 2 =  26\n",
      "13 X 3 =  39\n",
      "13 X 4 =  52\n",
      "13 X 5 =  65\n",
      "13 X 6 =  78\n",
      "13 X 7 =  91\n",
      "13 X 8 =  104\n",
      "13 X 9 =  117\n",
      "13 X 10 =  130\n",
      "14 X 1 =  14\n",
      "14 X 2 =  28\n",
      "14 X 3 =  42\n",
      "14 X 4 =  56\n",
      "14 X 5 =  70\n",
      "14 X 6 =  84\n",
      "14 X 7 =  98\n",
      "14 X 8 =  112\n",
      "14 X 9 =  126\n",
      "14 X 10 =  140\n",
      "15 X 1 =  15\n",
      "15 X 2 =  30\n",
      "15 X 3 =  45\n",
      "15 X 4 =  60\n",
      "15 X 5 =  75\n",
      "15 X 6 =  90\n",
      "15 X 7 =  105\n",
      "15 X 8 =  120\n",
      "15 X 9 =  135\n",
      "15 X 10 =  150\n",
      "16 X 1 =  16\n",
      "16 X 2 =  32\n",
      "16 X 3 =  48\n",
      "16 X 4 =  64\n",
      "16 X 5 =  80\n",
      "16 X 6 =  96\n",
      "16 X 7 =  112\n",
      "16 X 8 =  128\n",
      "16 X 9 =  144\n",
      "16 X 10 =  160\n",
      "17 X 1 =  17\n",
      "17 X 2 =  34\n",
      "17 X 3 =  51\n",
      "17 X 4 =  68\n",
      "17 X 5 =  85\n",
      "17 X 6 =  102\n",
      "17 X 7 =  119\n",
      "17 X 8 =  136\n",
      "17 X 9 =  153\n",
      "17 X 10 =  170\n",
      "18 X 1 =  18\n",
      "18 X 2 =  36\n",
      "18 X 3 =  54\n",
      "18 X 4 =  72\n",
      "18 X 5 =  90\n",
      "18 X 6 =  108\n",
      "18 X 7 =  126\n",
      "18 X 8 =  144\n",
      "18 X 9 =  162\n",
      "18 X 10 =  180\n",
      "19 X 1 =  19\n",
      "19 X 2 =  38\n",
      "19 X 3 =  57\n",
      "19 X 4 =  76\n",
      "19 X 5 =  95\n",
      "19 X 6 =  114\n",
      "19 X 7 =  133\n",
      "19 X 8 =  152\n",
      "19 X 9 =  171\n",
      "19 X 10 =  190\n",
      "20 X 1 =  20\n",
      "20 X 2 =  40\n",
      "20 X 3 =  60\n",
      "20 X 4 =  80\n",
      "20 X 5 =  100\n",
      "20 X 6 =  120\n",
      "20 X 7 =  140\n",
      "20 X 8 =  160\n",
      "20 X 9 =  180\n",
      "20 X 10 =  200\n"
     ]
    }
   ],
   "source": [
    "\n",
    "for i in range(2,21):\n",
    "  for j in range(1,11):\n",
    "      print(f\"{i} X {j} = \", j*i)\n"
   ]
  },
  {
   "cell_type": "code",
   "execution_count": null,
   "metadata": {
    "colab": {
     "base_uri": "https://localhost:8080/"
    },
    "id": "A6qqVdHazhDy",
    "outputId": "ecf6d298-30eb-4184-d782-6c081de46eeb"
   },
   "outputs": [
    {
     "name": "stdout",
     "output_type": "stream",
     "text": [
      "Enter the number: 2\n",
      "Enter the number: 4\n",
      "Enter the number: -1\n",
      "Sum of entered numbers: 6\n"
     ]
    }
   ],
   "source": [
    "sum = 0\n",
    "while True:\n",
    "    number = int(input(\"Enter the number: \"))\n",
    "    if number == -1:\n",
    "        break\n",
    "    sum += number\n",
    "\n",
    "print(\"Sum of entered numbers:\", sum)\n"
   ]
  },
  {
   "cell_type": "code",
   "execution_count": null,
   "metadata": {
    "colab": {
     "base_uri": "https://localhost:8080/"
    },
    "id": "3Po3c0_R4KFs",
    "outputId": "1f7209d4-d616-4bcd-825b-4ad3f17570f5"
   },
   "outputs": [
    {
     "name": "stdout",
     "output_type": "stream",
     "text": [
      "Guess the number: 5\n",
      "Guess the number: 4\n",
      "Guess the number: 7\n",
      "correctly guessed!! the number actually is  7\n"
     ]
    }
   ],
   "source": [
    "secretnum = 7\n",
    "guess = -1\n",
    "\n",
    "while guess != secretnum:\n",
    "\n",
    "    guess = int(input(\"Guess the number: \"))\n",
    "\n",
    "print(\"correctly guessed!! the number actually is \", guess)"
   ]
  },
  {
   "cell_type": "code",
   "execution_count": null,
   "metadata": {
    "colab": {
     "base_uri": "https://localhost:8080/"
    },
    "id": "u0GPNcx25gC4",
    "outputId": "698d0d49-0056-4b25-97fd-4d930e92d037"
   },
   "outputs": [
    {
     "name": "stdout",
     "output_type": "stream",
     "text": [
      "Hey, Folks!!\n",
      "Hey, Folks!!\n",
      "Hey, Folks!!\n",
      "Hey, Folks!!\n",
      "Hey, Folks!!\n"
     ]
    }
   ],
   "source": [
    "x=1\n",
    "while x<=5:\n",
    "  print(\"Hey, Folks!!\")\n",
    "  x+=1"
   ]
  },
  {
   "cell_type": "code",
   "execution_count": null,
   "metadata": {
    "colab": {
     "base_uri": "https://localhost:8080/"
    },
    "id": "WpHQahzY71Gf",
    "outputId": "23c6eb79-aa57-43f0-f1a2-ade6534b945e"
   },
   "outputs": [
    {
     "name": "stdout",
     "output_type": "stream",
     "text": [
      "Hey guys\n",
      "Hey guys\n",
      "Hey guys\n",
      "Hey guys\n",
      "Hey guys\n"
     ]
    }
   ],
   "source": [
    "x=1\n",
    "while x<=500:\n",
    "  print(\"Hey guys\") #Basic task 2 b executed\n",
    "  x+=1"
   ]
  },
  {
   "cell_type": "code",
   "execution_count": null,
   "metadata": {
    "colab": {
     "base_uri": "https://localhost:8080/"
    },
    "id": "38WLXbdQCm_E",
    "outputId": "45b89423-6ef9-4e6a-9a16-422ed0558c9d"
   },
   "outputs": [
    {
     "name": "stdout",
     "output_type": "stream",
     "text": [
      "1\n",
      "2\n",
      "3\n",
      "4\n",
      "number key found and its 5!!\n",
      "Target finished...gonna out of loop now!\n"
     ]
    }
   ],
   "source": [
    "for num in [1, 2, 3, 4, 5,6]:\n",
    "      if num==5:\n",
    "            print(\"number key found and its 5!!\")\n",
    "            break\n",
    "      print(num)\n",
    "print(\"Target finished...gonna out of loop now!\")\n"
   ]
  },
  {
   "cell_type": "code",
   "execution_count": null,
   "metadata": {
    "colab": {
     "base_uri": "https://localhost:8080/"
    },
    "id": "CKrIpU0irysR",
    "outputId": "b110800d-eca3-41ef-dc3c-16bc7222c37e"
   },
   "outputs": [
    {
     "name": "stdout",
     "output_type": "stream",
     "text": [
      "1\n",
      "2\n",
      "3\n",
      "4\n",
      "number key found and its 5!!\n",
      "6\n"
     ]
    }
   ],
   "source": [
    "for num in [1, 2, 3, 4, 5,6]:\n",
    "      if num==5:\n",
    "            print(\"number key found and its 5!!\")\n",
    "            continue\n",
    "      print(num)"
   ]
  },
  {
   "cell_type": "code",
   "execution_count": null,
   "metadata": {
    "colab": {
     "base_uri": "https://localhost:8080/"
    },
    "id": "Gmku0kSItfVB",
    "outputId": "766cd066-7a90-47a8-ac17-3a5a4c24cdc6"
   },
   "outputs": [
    {
     "name": "stdout",
     "output_type": "stream",
     "text": [
      "1 Ambala\n",
      "2 Banaras\n",
      "3 Calcutta\n",
      "4 Dilli\n"
     ]
    }
   ],
   "source": [
    "city = [\"Ambala\", \"Banaras\", \"Calcutta\", \"Dilli\"]\n",
    "for cities, index in enumerate(city,start=1):\n",
    "    print(cities, index)\n"
   ]
  },
  {
   "cell_type": "code",
   "execution_count": null,
   "metadata": {
    "colab": {
     "base_uri": "https://localhost:8080/"
    },
    "id": "ZOo-Ex1owf6v",
    "outputId": "1475e3a5-dc7b-44f4-ef87-01b15249b10e"
   },
   "outputs": [
    {
     "name": "stdout",
     "output_type": "stream",
     "text": [
      "2 X 1= 2\n",
      "2 X 2= 4\n",
      "2 X 3= 6\n",
      "2 X 4= 8\n",
      "2 X 5= 10\n",
      "2 X 6= 12\n",
      "2 X 7= 14\n",
      "2 X 8= 16\n",
      "2 X 9= 18\n",
      "2 X 10= 20\n"
     ]
    }
   ],
   "source": [
    "j=2\n",
    "for i in range(1,11):\n",
    "  print(f\"{j} X {i}=\",j*i)\n",
    "\n",
    "\n",
    "\n",
    "\n",
    "\n",
    "\n"
   ]
  },
  {
   "cell_type": "code",
   "execution_count": null,
   "metadata": {
    "colab": {
     "base_uri": "https://localhost:8080/"
    },
    "id": "JK71LX_wyB8y",
    "outputId": "207ba084-d3ba-4780-80e8-129207e08e70"
   },
   "outputs": [
    {
     "name": "stdout",
     "output_type": "stream",
     "text": [
      "p\n",
      "y\n",
      "t\n",
      "h\n",
      "o\n",
      "n\n"
     ]
    }
   ],
   "source": [
    "string=\"python\"\n",
    "for letters in string:\n",
    "  print(letters)"
   ]
  },
  {
   "cell_type": "code",
   "execution_count": null,
   "metadata": {
    "colab": {
     "base_uri": "https://localhost:8080/"
    },
    "id": "gKKRcLnUyRHw",
    "outputId": "c2f2f8b1-a396-4a94-de27-fed3375fa487"
   },
   "outputs": [
    {
     "name": "stdout",
     "output_type": "stream",
     "text": [
      "p\n",
      "y\n",
      "t\n",
      "h\n",
      "o\n",
      "n\n"
     ]
    }
   ],
   "source": [
    "string=\"python\"\n",
    "index = 0\n",
    "while index < len(string):\n",
    "  print(string[index])\n",
    "  index += 1"
   ]
  },
  {
   "cell_type": "code",
   "execution_count": null,
   "metadata": {
    "colab": {
     "base_uri": "https://localhost:8080/"
    },
    "id": "Ylp7fF_5oDwW",
    "outputId": "379dae66-c093-41cf-cd80-0a064bf41321"
   },
   "outputs": [
    {
     "name": "stdout",
     "output_type": "stream",
     "text": [
      "enter the no.5\n",
      "Sum: 51\n"
     ]
    }
   ],
   "source": [
    "N = int(input(\"enter the no.\"))\n",
    "#total = 0\n",
    "for num in range(1, N + 1):\n",
    "    total += num\n",
    "print(\"Sum:\", total)"
   ]
  },
  {
   "cell_type": "code",
   "execution_count": null,
   "metadata": {
    "colab": {
     "base_uri": "https://localhost:8080/"
    },
    "id": "ZUcBG46loMzO",
    "outputId": "6661eb6d-ab01-4e31-91c1-6cae8e150f38"
   },
   "outputs": [
    {
     "name": "stdout",
     "output_type": "stream",
     "text": [
      "1 a\n",
      "1 b\n",
      "1 c\n",
      "2 a\n",
      "2 b\n",
      "2 c\n",
      "3 a\n",
      "3 b\n",
      "3 c\n"
     ]
    }
   ],
   "source": [
    "for i in [1,2,3]:\n",
    "  for j in['a','b','c']:\n",
    "    print(i,j)"
   ]
  },
  {
   "cell_type": "code",
   "execution_count": null,
   "metadata": {
    "colab": {
     "base_uri": "https://localhost:8080/"
    },
    "id": "AzGM7JYlot2z",
    "outputId": "370a1cc4-7ca6-4148-b2e9-f892ada9c409"
   },
   "outputs": [
    {
     "name": "stdout",
     "output_type": "stream",
     "text": [
      "c\n",
      "ac\n",
      "rac\n"
     ]
    }
   ],
   "source": [
    "text = \"car\"\n",
    "reversed_text = \"\"\n",
    "for char in text:\n",
    "    reversed_text = char + reversed_text\n",
    "print(reversed_text)\n"
   ]
  },
  {
   "cell_type": "code",
   "execution_count": null,
   "metadata": {
    "colab": {
     "base_uri": "https://localhost:8080/"
    },
    "id": "tRWhuafl955j",
    "outputId": "152d57ad-81fb-4360-d663-485df55425eb"
   },
   "outputs": [
    {
     "name": "stdout",
     "output_type": "stream",
     "text": [
      "Enter a number: 356\n",
      "Sum of digits: 14\n"
     ]
    }
   ],
   "source": [
    "\n",
    " #sum of digits of a number using while loop.\n",
    "\n",
    "num = int(input(\"Enter a number: \"))\n",
    "\n",
    "sod = 0\n",
    "\n",
    "while num > 0:\n",
    "    digit = num % 10\n",
    "    sod += digit\n",
    "    num //= 10\n",
    "print(\"Sum of digits:\", sod)"
   ]
  },
  {
   "cell_type": "code",
   "execution_count": null,
   "metadata": {
    "colab": {
     "base_uri": "https://localhost:8080/"
    },
    "id": "8HSsso-8-2FW",
    "outputId": "48a845bc-4705-4161-e024-e8b7f966b13c"
   },
   "outputs": [
    {
     "name": "stdout",
     "output_type": "stream",
     "text": [
      "1\n",
      "2\n",
      "3\n",
      "4\n",
      "5\n"
     ]
    }
   ],
   "source": [
    "x=1\n",
    "while x<=5:\n",
    "  print(x)\n",
    "  x+=1"
   ]
  },
  {
   "cell_type": "markdown",
   "metadata": {
    "id": "gd54VUSoubev"
   },
   "source": [
    "#**While loop EXAMPLES**\n",
    "\n",
    "#1. sum of all the digits of an inputted number (2 ways/formats)\n",
    "#2. check if the number is palindrome or not\n",
    "#3. compute factorial of a number\n",
    "#4. convert decimal to binary\n",
    "#5. find all the divisors of a given number\n",
    "#6. check if a given number is prime or not\n",
    "#7. check if a number is armstrong number or not\n",
    "#8. calculate the frequency of  each digit in a given number\n",
    "#9. find the longest consecutive number in an inputted binary number\n",
    "#10. check if a number is perfect square or not!"
   ]
  },
  {
   "cell_type": "code",
   "execution_count": null,
   "metadata": {
    "id": "nj7SyZ18u86M"
   },
   "outputs": [],
   "source": []
  }
 ],
 "metadata": {
  "colab": {
   "provenance": []
  },
  "kernelspec": {
   "display_name": "Python 3 (ipykernel)",
   "language": "python",
   "name": "python3"
  },
  "language_info": {
   "codemirror_mode": {
    "name": "ipython",
    "version": 3
   },
   "file_extension": ".py",
   "mimetype": "text/x-python",
   "name": "python",
   "nbconvert_exporter": "python",
   "pygments_lexer": "ipython3",
   "version": "3.12.3"
  }
 },
 "nbformat": 4,
 "nbformat_minor": 4
}
